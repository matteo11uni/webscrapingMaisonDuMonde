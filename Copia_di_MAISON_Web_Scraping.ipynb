{
  "nbformat": 4,
  "nbformat_minor": 0,
  "metadata": {
    "colab": {
      "name": "Copia di MAISON_Web_Scraping.ipynb",
      "provenance": [],
      "collapsed_sections": [],
      "toc_visible": true
    },
    "kernelspec": {
      "name": "python3",
      "display_name": "Python 3"
    },
    "accelerator": "GPU"
  },
  "cells": [
    {
      "cell_type": "markdown",
      "metadata": {
        "id": "VYfg3I_fSt6e",
        "colab_type": "text"
      },
      "source": [
        "# WebScraping MAISON DU MONDE\n",
        "\n",
        "installo le librerie\n",
        "\n",
        "\n",
        "<a href=\"https://colab.research.google.com/drive/1_WyM24eXWf-pdcqJKCcsb1pWwnbEWRi8?authuser=2#scrollTo=VYfg3I_fSt6e\"><img align=\"left\" src=\"https://colab.research.google.com/assets/colab-badge.svg\" alt=\"Open in Colab\" title=\"Open and Execute in Google Colaboratory\"></a>\n"
      ]
    },
    {
      "cell_type": "code",
      "metadata": {
        "id": "6E11q1711nmO",
        "colab_type": "code",
        "colab": {
          "base_uri": "https://localhost:8080/",
          "height": 428
        },
        "outputId": "a26810e0-8ea9-428a-bfea-4d43ccccb9b8"
      },
      "source": [
        "!pip install selenium\n",
        "!apt-get update\n",
        "!apt install chromium-chromedriver\n",
        "!cp /usr/lib/chromium-browser/chromedriver /usr/bin"
      ],
      "execution_count": 2,
      "outputs": [
        {
          "output_type": "stream",
          "text": [
            "Requirement already satisfied: selenium in /usr/local/lib/python3.6/dist-packages (3.141.0)\n",
            "Requirement already satisfied: urllib3 in /usr/local/lib/python3.6/dist-packages (from selenium) (1.24.3)\n",
            "Ign:1 https://developer.download.nvidia.com/compute/cuda/repos/ubuntu1804/x86_64  InRelease\n",
            "Hit:2 http://security.ubuntu.com/ubuntu bionic-security InRelease\n",
            "Ign:3 https://developer.download.nvidia.com/compute/machine-learning/repos/ubuntu1804/x86_64  InRelease\n",
            "Hit:4 https://developer.download.nvidia.com/compute/cuda/repos/ubuntu1804/x86_64  Release\n",
            "Hit:5 https://developer.download.nvidia.com/compute/machine-learning/repos/ubuntu1804/x86_64  Release\n",
            "Hit:6 http://ppa.launchpad.net/graphics-drivers/ppa/ubuntu bionic InRelease\n",
            "Hit:7 https://cloud.r-project.org/bin/linux/ubuntu bionic-cran35/ InRelease\n",
            "Hit:8 http://archive.ubuntu.com/ubuntu bionic InRelease\n",
            "Hit:11 http://ppa.launchpad.net/marutter/c2d4u3.5/ubuntu bionic InRelease\n",
            "Hit:12 http://archive.ubuntu.com/ubuntu bionic-updates InRelease\n",
            "Hit:13 http://archive.ubuntu.com/ubuntu bionic-backports InRelease\n",
            "Reading package lists... Done\n",
            "Reading package lists... Done\n",
            "Building dependency tree       \n",
            "Reading state information... Done\n",
            "chromium-chromedriver is already the newest version (83.0.4103.61-0ubuntu0.18.04.1).\n",
            "The following package was automatically installed and is no longer required:\n",
            "  libnvidia-common-440\n",
            "Use 'apt autoremove' to remove it.\n",
            "0 upgraded, 0 newly installed, 0 to remove and 103 not upgraded.\n",
            "cp: '/usr/lib/chromium-browser/chromedriver' and '/usr/bin/chromedriver' are the same file\n"
          ],
          "name": "stdout"
        }
      ]
    },
    {
      "cell_type": "markdown",
      "metadata": {
        "id": "kuhZcDh4UHYp",
        "colab_type": "text"
      },
      "source": [
        "And now we will import some modules on our Notebook\n",
        "\n",
        "\n",
        "1.   sys: to setup the path of chrome driver\n",
        "2.   selenium: to emulate the user behaviour\n",
        "3.   pandas: to work with data\n",
        "4.   tqdm: to show a progress bar in our notebook\n",
        "5.   json: to work with json format\n",
        "\n",
        "\n",
        "\n"
      ]
    },
    {
      "cell_type": "code",
      "metadata": {
        "id": "YRt5yEXxA-jW",
        "colab_type": "code",
        "colab": {}
      },
      "source": [
        "import sys\n",
        "sys.path.insert(0,'/usr/lib/chromium-browser/chromedriver')\n",
        "\n",
        "from selenium import webdriver\n",
        "from tqdm import tqdm_notebook as tqdm\n",
        "import pandas\n",
        "import json\n",
        "import pprint"
      ],
      "execution_count": 3,
      "outputs": []
    },
    {
      "cell_type": "markdown",
      "metadata": {
        "id": "ksyefP35VQc2",
        "colab_type": "text"
      },
      "source": [
        "First we need to set the options for the ghost browser.\n",
        "The most important is `--headless` because we are in a \"cloud\" ntotebook. In our local notebook we can remove the `--headless` option.  \n"
      ]
    },
    {
      "cell_type": "code",
      "metadata": {
        "id": "DTfvdy_gBCBU",
        "colab_type": "code",
        "colab": {}
      },
      "source": [
        "chrome_options = webdriver.ChromeOptions()\n",
        "chrome_options.add_argument('--headless')\n",
        "chrome_options.add_argument('--no-sandbox')\n",
        "chrome_options.add_argument('--disable-dev-shm-usage')"
      ],
      "execution_count": 4,
      "outputs": []
    },
    {
      "cell_type": "markdown",
      "metadata": {
        "id": "4KH8QdbQlI6q",
        "colab_type": "text"
      },
      "source": [
        "# scraping da sezione letti matrimoniali e singoli\n"
      ]
    },
    {
      "cell_type": "markdown",
      "metadata": {
        "id": "l2ca32bZZ7Vq",
        "colab_type": "text"
      },
      "source": [
        "query individuate sul sito : https://www.maisonsdumonde.com/IT/it/c/letti-matrimoniali-e-letti-singoli-753b79b9b2e19310c0036162c3fc311f?sort=popular&page=\n",
        "\n",
        "per visualizzare il box di ogni singolo letto: section li article\n",
        "id_letto :  div > section > ol.category-product-list.mt-2 > li\n",
        "per accedere ad ogni singolo letto ho l’attributo href:  article > div > a \n",
        "prezzo di ogni singolo prodotto article > div > div > div span\n",
        "descrizioni (titolo) e dimensioni   article > div > a h2\n",
        "immagini:   li > article > div > div > img\n"
      ]
    },
    {
      "cell_type": "code",
      "metadata": {
        "id": "XDFvLXM3lehY",
        "colab_type": "code",
        "colab": {
          "base_uri": "https://localhost:8080/",
          "height": 71
        },
        "outputId": "4cfbaee4-48d3-4cb4-b5b8-40ba2f2277ce"
      },
      "source": [
        "wd = webdriver.Chrome('chromedriver',chrome_options=chrome_options)\n",
        "wd.get(\"https://www.maisonsdumonde.com/IT/it/c/letti-matrimoniali-e-letti-singoli-753b79b9b2e19310c0036162c3fc311f?sort=popular&page= \")"
      ],
      "execution_count": 67,
      "outputs": [
        {
          "output_type": "stream",
          "text": [
            "/usr/local/lib/python3.6/dist-packages/ipykernel_launcher.py:1: DeprecationWarning: use options instead of chrome_options\n",
            "  \"\"\"Entry point for launching an IPython kernel.\n"
          ],
          "name": "stderr"
        }
      ]
    },
    {
      "cell_type": "code",
      "metadata": {
        "id": "IkSkFvfultjJ",
        "colab_type": "code",
        "colab": {
          "base_uri": "https://localhost:8080/",
          "height": 286
        },
        "outputId": "667d7b63-71bc-4f06-c629-1f15ccad2968"
      },
      "source": [
        "wd.save_screenshot('screenshot.png')\n",
        "\n",
        "%pylab inline\n",
        "import matplotlib.pyplot as plt\n",
        "import matplotlib.image as mpimg\n",
        "img=mpimg.imread('/content/screenshot.png')\n",
        "imgplot = plt.imshow(img)\n",
        "plt.show()"
      ],
      "execution_count": 68,
      "outputs": [
        {
          "output_type": "stream",
          "text": [
            "Populating the interactive namespace from numpy and matplotlib\n"
          ],
          "name": "stdout"
        },
        {
          "output_type": "display_data",
          "data": {
            "image/png": "[encoded data removed]",
            "text/plain": [
              "<Figure size 432x288 with 1 Axes>"
            ]
          },
          "metadata": {
            "tags": [],
            "needs_background": "light"
          }
        }
      ]
    },
    {
      "cell_type": "code",
      "metadata": {
        "id": "uY16LM7-DRvs",
        "colab_type": "code",
        "colab": {
          "base_uri": "https://localhost:8080/",
          "height": 34
        },
        "outputId": "751c5f86-feef-4738-d1fd-6e8132a9de22"
      },
      "source": [
        "\n",
        "id_letti = wd.find_elements_by_css_selector(\"div > section > ol.category-product-list.mt-2 > li\")[0].get_attribute(\"id\")\n",
        "\n",
        "print(id_letti)\n",
        "\n"
      ],
      "execution_count": 46,
      "outputs": [
        {
          "output_type": "stream",
          "text": [
            "product-188395\n"
          ],
          "name": "stdout"
        }
      ]
    },
    {
      "cell_type": "code",
      "metadata": {
        "id": "IpUNVPkEj9Sv",
        "colab_type": "code",
        "colab": {
          "base_uri": "https://localhost:8080/",
          "height": 34
        },
        "outputId": "421c989c-58af-4999-ab09-5e06618c9716"
      },
      "source": [
        "elenco_letti = wd.find_elements_by_css_selector(\"section li article\")\n",
        "print(len(elenco_letti))"
      ],
      "execution_count": 74,
      "outputs": [
        {
          "output_type": "stream",
          "text": [
            "40\n"
          ],
          "name": "stdout"
        }
      ]
    },
    {
      "cell_type": "code",
      "metadata": {
        "id": "UtkPj3g8leHD",
        "colab_type": "code",
        "colab": {
          "base_uri": "https://localhost:8080/",
          "height": 68
        },
        "outputId": "101b3a7c-d011-48ce-e44d-f8dc5d8ec1a8"
      },
      "source": [
        "print(elenco_letti[5].text)"
      ],
      "execution_count": 75,
      "outputs": [
        {
          "output_type": "stream",
          "text": [
            "Aggiungi alla mia lista dei desideri\n",
            "BRENT - Letto grigio 140 x 190 in tessuto\n",
            "399,00 €\n"
          ],
          "name": "stdout"
        }
      ]
    },
    {
      "cell_type": "code",
      "metadata": {
        "id": "9t9AVrMlk-gB",
        "colab_type": "code",
        "colab": {}
      },
      "source": [
        "import pprint\n",
        "for dettaglio_letti in elenco_letti:\n",
        "  print(dettaglio_letti.text)"
      ],
      "execution_count": null,
      "outputs": []
    },
    {
      "cell_type": "code",
      "metadata": {
        "id": "zvKgkTGjroye",
        "colab_type": "code",
        "colab": {}
      },
      "source": [
        "import pprint\n",
        "articoli_letti = []\n",
        "for letti in elenco_letti:\n",
        "  #out of range su product_id - da verificare\n",
        "  #product_id = letti.find_elements_by_css_selector(\"div > section > ol.category-product-list.mt-2 > li\")[0].get_attribute(\"id\")\n",
        "  titolo_dim = letti.find_elements_by_css_selector(\"article > div > a h2\")[0].text\n",
        "  link_letti = letti.find_elements_by_css_selector(\"article > div > a\")[0].get_attribute(\"href\")\n",
        "  prezzo = letti.find_elements_by_css_selector(\"article > div > div > div span\")[0].text\n",
        "  #la query però mi fa vedere tutte le immagini, valutare il preliveo di 1 img dal dettaglio\n",
        "  immagini = letti.find_elements_by_css_selector(\" li > article > div > div > img\")[0]\n",
        "  # come prelevo l'id articolo? la query individuata non va bene: \"div > section > ol.category-product-list.mt-2 > li\"\n",
        "articoli_letti.append({'titolo_dimensione' : titolo_dim,\n",
        "                       'link_letti' : link_letti,\n",
        "                       'prezzo' : prezzo,\n",
        "                       'immagini' : immagini})\n",
        "\n",
        "len(articoli_letti)\n",
        "pprint.pprint(articoli_letti)"
      ],
      "execution_count": null,
      "outputs": []
    },
    {
      "cell_type": "code",
      "metadata": {
        "id": "avQUjRSeOxO3",
        "colab_type": "code",
        "colab": {}
      },
      "source": [
        "def parse_letti(letti):\n",
        "  titolo_dimensione = \"\"\n",
        "  link_letti = \"\"\n",
        "  prezzo = \"\"\n",
        "  immagini = \"\"\n",
        "  try:\n",
        "    titolo_dim = letti.find_elements_by_css_selector(\"article > div > a h2\")[0].text\n",
        "    link_letti = letti.find_elements_by_css_selector(\"article > div > a\")[0].get_attribute(\"href\")\n",
        "    prezzo = letti.find_elements_by_css_selector(\"article > div > div > div span\")[0].text\n",
        "    immagini = letti.find_elements_by_css_selector(\" li > article > div > div > img\")[0]\n",
        "  except:\n",
        "    pass\n",
        "  return {'titolo_dimensione' : titolo_dim,\n",
        "          'link_letti' : link_letti,\n",
        "          'prezzo' : prezzo,\n",
        "          'immagini' : immagini}\n",
        "  \n",
        "len(articoli_letti)\n",
        "pprint.pprint(articoli_letti)"
      ],
      "execution_count": null,
      "outputs": []
    },
    {
      "cell_type": "code",
      "metadata": {
        "id": "23RwU45GQ7Rd",
        "colab_type": "code",
        "colab": {}
      },
      "source": [
        "import time\n",
        "articoli_letti = []\n",
        "for num in tqdm(range(1,10)):\n",
        "  time.sleep(1)\n",
        "  wd.get(f\"https://www.maisonsdumonde.com/IT/it/c/letti-matrimoniali-e-letti-singoli-753b79b9b2e19310c0036162c3fc311f?sort=popular&page={num}\")\n",
        "  elenco_letti = wd.find_elements_by_css_selector(\"section li article\")\n",
        "  wd.save_screenshot(f'screenshot_{num}.png')\n",
        "  for letti in elenco_letti:\n",
        "    articoli_letti.append(parse_letti(letti))\n",
        "\n",
        "print(len(articoli_letti))"
      ],
      "execution_count": null,
      "outputs": []
    },
    {
      "cell_type": "code",
      "metadata": {
        "id": "_N8g38jPPPvA",
        "colab_type": "code",
        "colab": {}
      },
      "source": [
        ""
      ],
      "execution_count": null,
      "outputs": []
    },
    {
      "cell_type": "markdown",
      "metadata": {
        "id": "m2VODU3eP2Iv",
        "colab_type": "text"
      },
      "source": [
        "# Provo lo scraping a prelevare il dettaglio di ogni singolo articolo nei dati aggiuntivi (materiali, struttura, provenienza materiali...)\n",
        "\n",
        " ##\n"
      ]
    },
    {
      "cell_type": "code",
      "metadata": {
        "id": "8plJeWdxaz5b",
        "colab_type": "code",
        "colab": {}
      },
      "source": [
        ""
      ],
      "execution_count": null,
      "outputs": []
    },
    {
      "cell_type": "code",
      "metadata": {
        "id": "vhrA2_NPazfD",
        "colab_type": "code",
        "colab": {}
      },
      "source": [
        ""
      ],
      "execution_count": null,
      "outputs": []
    },
    {
      "cell_type": "code",
      "metadata": {
        "id": "M44CRIFiazC0",
        "colab_type": "code",
        "colab": {}
      },
      "source": [
        ""
      ],
      "execution_count": null,
      "outputs": []
    },
    {
      "cell_type": "code",
      "metadata": {
        "id": "KUjiwdBPPQb9",
        "colab_type": "code",
        "colab": {}
      },
      "source": [
        "#test per verificare gli elementi dentro la pagina di ciascun articolo:\n",
        "wd = webdriver.Chrome('chromedriver',chrome_options=chrome_options)\n",
        "wd.get(\"https://www.maisonsdumonde.com/IT/it/p/letto-160x200-cm-grigio-aspleen-188395.htm?page=1\")"
      ],
      "execution_count": null,
      "outputs": []
    },
    {
      "cell_type": "code",
      "metadata": {
        "id": "tXyHrl6uPRy9",
        "colab_type": "code",
        "colab": {}
      },
      "source": [
        "wd.save_screenshot('screenshot.png')\n",
        "\n",
        "%pylab inline\n",
        "import matplotlib.pyplot as plt\n",
        "import matplotlib.image as mpimg\n",
        "img=mpimg.imread('/content/screenshot.png')\n",
        "imgplot = plt.imshow(img)\n",
        "plt.show()"
      ],
      "execution_count": null,
      "outputs": []
    },
    {
      "cell_type": "code",
      "metadata": {
        "id": "zEFrZgVDPV-2",
        "colab_type": "code",
        "colab": {}
      },
      "source": [
        "lista_caratteristiche = wd.find_elements_by_tag_name(\"section ul.pl-0 li\")\n",
        "print(len(lista_caratteristiche))"
      ],
      "execution_count": null,
      "outputs": []
    },
    {
      "cell_type": "code",
      "metadata": {
        "id": "eRJbbky6PfEt",
        "colab_type": "code",
        "colab": {}
      },
      "source": [
        "print((lista_caratteristiche)[1].text)"
      ],
      "execution_count": null,
      "outputs": []
    },
    {
      "cell_type": "code",
      "metadata": {
        "id": "1iwTDBLaPfdl",
        "colab_type": "code",
        "colab": {}
      },
      "source": [
        "codice_articolo = wd.find_elements_by_css_selector(\"section ul.pl-0 li\")[0].text\n",
        "print(codice_articolo)"
      ],
      "execution_count": null,
      "outputs": []
    },
    {
      "cell_type": "code",
      "metadata": {
        "id": "AV_36dVYPy-f",
        "colab_type": "code",
        "colab": {}
      },
      "source": [
        ""
      ],
      "execution_count": null,
      "outputs": []
    },
    {
      "cell_type": "code",
      "metadata": {
        "id": "GKasxp-qPl0N",
        "colab_type": "code",
        "colab": {}
      },
      "source": [
        "#possibile soluzione ad out of range\n",
        "codice_articolo = \"\"\n",
        "    if (len(lista_caratteristiche) > 0):\n",
        "      codice_articolo = lista_caratteristiche[0].text"
      ],
      "execution_count": null,
      "outputs": []
    }
  ]
}